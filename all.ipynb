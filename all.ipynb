{
 "cells": [
  {
   "cell_type": "code",
   "execution_count": 2,
   "metadata": {},
   "outputs": [
    {
     "ename": "ImportError",
     "evalue": "cannot import name 'joblib' from 'sklearn.externals' (c:\\Python311\\Lib\\site-packages\\sklearn\\externals\\__init__.py)",
     "output_type": "error",
     "traceback": [
      "\u001b[1;31m---------------------------------------------------------------------------\u001b[0m",
      "\u001b[1;31mImportError\u001b[0m                               Traceback (most recent call last)",
      "Cell \u001b[1;32mIn[2], line 1\u001b[0m\n\u001b[1;32m----> 1\u001b[0m \u001b[38;5;28;01mfrom\u001b[39;00m \u001b[38;5;21;01mcommonfunctions\u001b[39;00m \u001b[38;5;28;01mimport\u001b[39;00m  \u001b[38;5;241m*\u001b[39m\n",
      "File \u001b[1;32mg:\\Sem9\\Image\\Signarture_verification_Image23\\commonfunctions.py:11\u001b[0m\n\u001b[0;32m      9\u001b[0m \u001b[38;5;28;01mfrom\u001b[39;00m \u001b[38;5;21;01msklearn\u001b[39;00m\u001b[38;5;21;01m.\u001b[39;00m\u001b[38;5;21;01mmodel_selection\u001b[39;00m \u001b[38;5;28;01mimport\u001b[39;00m train_test_split\n\u001b[0;32m     10\u001b[0m \u001b[38;5;28;01mfrom\u001b[39;00m \u001b[38;5;21;01msklearn\u001b[39;00m \u001b[38;5;28;01mimport\u001b[39;00m svm\n\u001b[1;32m---> 11\u001b[0m \u001b[38;5;28;01mfrom\u001b[39;00m \u001b[38;5;21;01msklearn\u001b[39;00m\u001b[38;5;21;01m.\u001b[39;00m\u001b[38;5;21;01mexternals\u001b[39;00m \u001b[38;5;28;01mimport\u001b[39;00m joblib\n\u001b[0;32m     12\u001b[0m \u001b[38;5;28;01mimport\u001b[39;00m \u001b[38;5;21;01mcv2\u001b[39;00m\n\u001b[0;32m     13\u001b[0m \u001b[38;5;28;01mfrom\u001b[39;00m \u001b[38;5;21;01msklearn\u001b[39;00m\u001b[38;5;21;01m.\u001b[39;00m\u001b[38;5;21;01mneighbors\u001b[39;00m \u001b[38;5;28;01mimport\u001b[39;00m KNeighborsClassifier\n",
      "\u001b[1;31mImportError\u001b[0m: cannot import name 'joblib' from 'sklearn.externals' (c:\\Python311\\Lib\\site-packages\\sklearn\\externals\\__init__.py)"
     ]
    }
   ],
   "source": [
    "from commonfunctions import  *"
   ]
  },
  {
   "cell_type": "code",
   "execution_count": null,
   "metadata": {},
   "outputs": [],
   "source": [
    "def img2gray(image: np.ndarray) -> np.ndarray:\n",
    "    if len(image.shape) > 3:\n",
    "        image = image[:, :, 0:3, 0]\n",
    "    if len(image.shape) == 2:\n",
    "        return image\n",
    "    else:\n",
    "        gray_img = rgb2gray(image)\n",
    "        return gray_img"
   ]
  },
  {
   "cell_type": "code",
   "execution_count": null,
   "metadata": {},
   "outputs": [],
   "source": [
    "def noiseRemoval(img: np.ndarray) -> np.ndarray:\n",
    "    #clean_img = median(img, selem=disk(3))\n",
    "    clean_img = gaussian(img, 1.2)\n",
    "    return clean_img"
   ]
  },
  {
   "cell_type": "code",
   "execution_count": null,
   "metadata": {},
   "outputs": [],
   "source": [
    "def median_filter(img,w=10,h=10):\n",
    "    edgex = int(w/2)\n",
    "    edgey = int(h/2)\n",
    "    new_img = np.zeros(img.shape)\n",
    "    for i in range(edgex,img.shape[0]-edgex):\n",
    "        for j in range(edgey,img.shape[1]-edgey):\n",
    "            new_img[i][j] = np.median(img[i-edgex:i+edgex+1,j-edgey:j+edgey+1])\n",
    "    return new_img"
   ]
  },
  {
   "cell_type": "code",
   "execution_count": null,
   "metadata": {},
   "outputs": [],
   "source": [
    "def contrastEnhancemet(img: np.ndarray) -> None:\n",
    "        enhanced = img.copy()\n",
    "        low, high = np.percentile(img, [0.2, 99.8])\n",
    "        enhanced = rescale_intensity(img, in_range=(low, high))\n",
    "        return enhanced"
   ]
  },
  {
   "cell_type": "code",
   "execution_count": null,
   "metadata": {},
   "outputs": [],
   "source": [
    "def binarize(img: np.ndarray) -> None:\n",
    "    # threshold = threshold_otsu(img)\n",
    "    block_size = 25\n",
    "    local_thresh = threshold_local(img, block_size, offset=0.1)\n",
    "    binarized_img = (img < local_thresh).astype(np.uint8)\n",
    "    return binarized_img"
   ]
  },
  {
   "cell_type": "code",
   "execution_count": null,
   "metadata": {},
   "outputs": [],
   "source": [
    "def skewCorrection(img: np.ndarray) -> np.ndarray:\n",
    "    skew_corrected_imgs = transform.resize(img, (128, 256), mode='reflect', anti_aliasing=True)\n",
    "    return skew_corrected_imgs"
   ]
  },
  {
   "cell_type": "code",
   "execution_count": null,
   "metadata": {},
   "outputs": [],
   "source": [
    "def preprocess(img: np.ndarray) -> np.ndarray:\n",
    "    gray_img = img2gray(img)\n",
    "    clean_img = noiseRemoval(gray_img)\n",
    "    enhanced_img = contrastEnhancemet(clean_img)\n",
    "    binarized_img = binarize(enhanced_img)\n",
    "    #show_images([gray_img,binarized_img,opening(binarized_img,rectangle(5,5))])\n",
    "    skew_corrected_img = skewCorrection(opening(binarized_img,rectangle(5,5)))\n",
    "    skeletonized_img = skeletonize(skew_corrected_img)\n",
    "    return skeletonized_img"
   ]
  },
  {
   "cell_type": "code",
   "execution_count": null,
   "metadata": {},
   "outputs": [],
   "source": [
    "def readDataset(dir: str) -> list[np.ndarray]:\n",
    "    dataset = []\n",
    "    read_imgs = os.listdir(dir)\n",
    "    for i in range(len(read_imgs)):\n",
    "        image = io.imread(dir + read_imgs[i]).astype(np.uint8)\n",
    "        dataset.append(preprocess(image))\n",
    "    return dataset"
   ]
  },
  {
   "cell_type": "code",
   "execution_count": null,
   "metadata": {},
   "outputs": [],
   "source": [
    "def HOGFeatureExtractionSkimage(image: np.ndarray) -> np.ndarray:\n",
    "    image = image.astype(np.uint8)\n",
    "    features = hog(image, orientations=9, pixels_per_cell=(9, 9),\n",
    "    cells_per_block=(3,3), transform_sqrt=True, block_norm=\"L1\")\n",
    "    return features\n",
    "\n",
    "def extractFeatures(imgs: list[np.ndarray]) -> list[np.ndarray]:\n",
    "    extracted_features = []\n",
    "    for i in range(len(imgs)):\n",
    "        extracted_features.append(HOGFeatureExtractionSkimage(imgs[i]))\n",
    "    return extracted_features\n"
   ]
  },
  {
   "cell_type": "code",
   "execution_count": null,
   "metadata": {},
   "outputs": [],
   "source": [
    "real_imgs = readDataset('all/real/')\n",
    "forged_imgs = readDataset('all/forged/')\n",
    "test_imgs = readDataset('testImgs/')"
   ]
  },
  {
   "cell_type": "code",
   "execution_count": null,
   "metadata": {},
   "outputs": [],
   "source": [
    "real_extracted_features = extractFeatures(real_imgs)\n",
    "forged_extracted_features = extractFeatures(forged_imgs)\n",
    "test_extraced_features = extractFeatures(test_imgs)"
   ]
  },
  {
   "cell_type": "code",
   "execution_count": null,
   "metadata": {},
   "outputs": [],
   "source": [
    "HOG_features = forged_extracted_features + real_extracted_features\n",
    "HOG_labels_forged = [0 for _ in range(len(forged_extracted_features))]\n",
    "HOG_labels_real = [1 for _ in range(len(real_extracted_features))]\n",
    "HOG_labels = HOG_labels_forged + HOG_labels_real\n",
    "test_imgs_label = 1\n",
    "\n",
    "x_train, x_test, y_train, y_test = train_test_split(HOG_features, HOG_labels, test_size = 0.2, random_state = 42)\n",
    "model = svm.SVC(kernel='linear')\n",
    "model.fit(x_train, y_train)\n",
    "\n",
    "accuracy = model.score(x_test, y_test)\n",
    "print(\"SVM using HOG as feature descriptor.\", 'accuracy:', accuracy * 100, '%')\n",
    "accuracy = model.score(x_train, y_train)\n",
    "print(\"SVM using HOG as feature descriptor.\", 'accuracy:', accuracy * 100, '%')\n",
    "\n",
    "dump(model, 'model.pkl')"
   ]
  },
  {
   "cell_type": "code",
   "execution_count": null,
   "metadata": {},
   "outputs": [],
   "source": [
    "\n",
    "test_prediction = model.predict(test_extraced_features)\n",
    "print(test_prediction)\n",
    "if test_prediction == test_imgs_label:\n",
    "    print(\"correct prediction\")\n",
    "else:\n",
    "    print(\"false prediction\")"
   ]
  }
 ],
 "metadata": {
  "kernelspec": {
   "display_name": "Python 3",
   "language": "python",
   "name": "python3"
  },
  "language_info": {
   "codemirror_mode": {
    "name": "ipython",
    "version": 3
   },
   "file_extension": ".py",
   "mimetype": "text/x-python",
   "name": "python",
   "nbconvert_exporter": "python",
   "pygments_lexer": "ipython3",
   "version": "3.11.5"
  }
 },
 "nbformat": 4,
 "nbformat_minor": 2
}
