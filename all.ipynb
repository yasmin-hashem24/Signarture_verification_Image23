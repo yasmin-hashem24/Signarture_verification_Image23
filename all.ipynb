{
 "cells": [
  {
   "cell_type": "code",
   "execution_count": 1,
   "metadata": {},
   "outputs": [],
   "source": [
    "from commonfunctions import *\n",
    "from Preprocessor import Preprocessor\n",
    "from Model import *"
   ]
  },
  {
   "cell_type": "markdown",
   "metadata": {},
   "source": [
    "## Training the model"
   ]
  },
  {
   "cell_type": "code",
   "execution_count": 2,
   "metadata": {},
   "outputs": [
    {
     "name": "stdout",
     "output_type": "stream",
     "text": [
      "SVM using HOG as feature descriptor. accuracy: 80.0 %\n",
      "SVM using HOG as feature descriptor. Testing the train accuracy accuracy: 100.0 %\n"
     ]
    }
   ],
   "source": [
    "model = Model()\n",
    "model.train(real_dir='all/real/', forged_dir='all/forged/')\n",
    "model.loadModel()"
   ]
  },
  {
   "cell_type": "markdown",
   "metadata": {},
   "source": [
    "## Model Prediction"
   ]
  },
  {
   "cell_type": "code",
   "execution_count": null,
   "metadata": {},
   "outputs": [],
   "source": [
    "model.predict(1, 'testImgs/')"
   ]
  },
  {
   "cell_type": "code",
   "execution_count": null,
   "metadata": {},
   "outputs": [],
   "source": [
    "real_imgs = readDataset('all/real/')\n",
    "forged_imgs = readDataset('all/forged/')\n",
    "test_imgs = readDataset('testImgs/')"
   ]
  },
  {
   "cell_type": "code",
   "execution_count": null,
   "metadata": {},
   "outputs": [],
   "source": [
    "real_extracted_features = extractFeatures(real_imgs)\n",
    "forged_extracted_features = extractFeatures(forged_imgs)\n",
    "test_extraced_features = extractFeatures(test_imgs)"
   ]
  },
  {
   "cell_type": "code",
   "execution_count": null,
   "metadata": {},
   "outputs": [],
   "source": [
    "HOG_features = forged_extracted_features + real_extracted_features\n",
    "HOG_labels_forged = [0 for _ in range(len(forged_extracted_features))]\n",
    "HOG_labels_real = [1 for _ in range(len(real_extracted_features))]\n",
    "HOG_labels = HOG_labels_forged + HOG_labels_real\n",
    "test_imgs_label = 1\n",
    "\n",
    "x_train, x_test, y_train, y_test = train_test_split(HOG_features, HOG_labels, test_size = 0.2, random_state = 42)\n",
    "model = svm.SVC(kernel='linear')\n",
    "model.fit(x_train, y_train)\n",
    "\n",
    "accuracy = model.score(x_test, y_test)\n",
    "print(\"SVM using HOG as feature descriptor.\", 'accuracy:', accuracy * 100, '%')\n",
    "accuracy = model.score(x_train, y_train)\n",
    "print(\"SVM using HOG as feature descriptor.\", 'accuracy:', accuracy * 100, '%')\n",
    "\n",
    "dump(model, 'model.pkl')"
   ]
  }
 ],
 "metadata": {
  "kernelspec": {
   "display_name": "Python 3",
   "language": "python",
   "name": "python3"
  },
  "language_info": {
   "codemirror_mode": {
    "name": "ipython",
    "version": 3
   },
   "file_extension": ".py",
   "mimetype": "text/x-python",
   "name": "python",
   "nbconvert_exporter": "python",
   "pygments_lexer": "ipython3",
   "version": "3.11.5"
  }
 },
 "nbformat": 4,
 "nbformat_minor": 2
}
