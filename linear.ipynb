{
 "cells": [
  {
   "cell_type": "code",
   "execution_count": 1,
   "metadata": {},
   "outputs": [
    {
     "name": "stdout",
     "output_type": "stream",
     "text": [
      "WARNING:tensorflow:From c:\\Users\\Lenovo\\anaconda3\\Lib\\site-packages\\keras\\src\\losses.py:2976: The name tf.losses.sparse_softmax_cross_entropy is deprecated. Please use tf.compat.v1.losses.sparse_softmax_cross_entropy instead.\n",
      "\n"
     ]
    }
   ],
   "source": [
    "import logging\n",
    "import numpy as np\n",
    "from commonfunctions import *\n",
    "\n",
    "logging.basicConfig(level=logging.DEBUG)\n",
    "\n",
    "class LinearSVM(object):\n",
    "    \"\"\"\n",
    "    Implementation of the linear support vector machine.\n",
    "    \"\"\"\n",
    "    def __init__(self):\n",
    "        self.w = None\n",
    "        self.b = None\n",
    "\n",
    "    def fit(self, X, y, soft=True):\n",
    "        \"\"\"\n",
    "        Fit the model according to the given training data.\n",
    "\n",
    "        :param numpy.array X:\n",
    "        :param numpy.array y:\n",
    "        :param bool soft:\n",
    "        \"\"\"\n",
    "        # Data can be added as a pickle using read_data method\n",
    "        if soft:\n",
    "            C = 1.0  # Penalty\n",
    "            alphas = fit_soft(X, y, C)\n",
    "        else:\n",
    "            alphas = fit(X, y)\n",
    "\n",
    "        # get weights\n",
    "        w = np.sum(alphas * y[:, None] * X, axis=0)\n",
    "        b_vector = y - np.dot(X, w)\n",
    "        b = b_vector.sum() / b_vector.size\n",
    "\n",
    "        # normalize\n",
    "        norm = np.linalg.norm(w)\n",
    "        w, b = w / norm, b / norm\n",
    "\n",
    "        # Store values\n",
    "        self.w = w\n",
    "        self.b = b\n",
    "\n",
    "    def predict(self, X):\n",
    "        \"\"\"\n",
    "        :param X:\n",
    "        :return:\n",
    "        \"\"\"\n",
    "        y = np.sign(np.dot(self.w, X.T) + self.b * np.ones(X.shape[0]))\n",
    "        return y\n"
   ]
  }
 ],
 "metadata": {
  "kernelspec": {
   "display_name": "base",
   "language": "python",
   "name": "python3"
  },
  "language_info": {
   "codemirror_mode": {
    "name": "ipython",
    "version": 3
   },
   "file_extension": ".py",
   "mimetype": "text/x-python",
   "name": "python",
   "nbconvert_exporter": "python",
   "pygments_lexer": "ipython3",
   "version": "3.11.5"
  }
 },
 "nbformat": 4,
 "nbformat_minor": 2
}
