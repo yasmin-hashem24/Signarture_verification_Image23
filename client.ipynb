{
 "cells": [
  {
   "cell_type": "markdown",
   "metadata": {},
   "source": [
    "<h3>Imports</h3>"
   ]
  },
  {
   "cell_type": "code",
   "execution_count": 58,
   "metadata": {},
   "outputs": [
    {
     "ename": "ImportError",
     "evalue": "cannot import name 'QTextBrowser' from 'PySide6.QtCore' (c:\\Users\\sohad\\anaconda3\\Lib\\site-packages\\PySide6\\QtCore.pyd)",
     "output_type": "error",
     "traceback": [
      "\u001b[1;31m---------------------------------------------------------------------------\u001b[0m",
      "\u001b[1;31mImportError\u001b[0m                               Traceback (most recent call last)",
      "Cell \u001b[1;32mIn[58], line 4\u001b[0m\n\u001b[0;32m      2\u001b[0m \u001b[38;5;28;01mfrom\u001b[39;00m \u001b[38;5;21;01mPySide6\u001b[39;00m\u001b[38;5;21;01m.\u001b[39;00m\u001b[38;5;21;01mQtWidgets\u001b[39;00m \u001b[38;5;28;01mimport\u001b[39;00m \u001b[38;5;241m*\u001b[39m\n\u001b[0;32m      3\u001b[0m \u001b[38;5;28;01mfrom\u001b[39;00m \u001b[38;5;21;01mPySide6\u001b[39;00m\u001b[38;5;21;01m.\u001b[39;00m\u001b[38;5;21;01mQtGui\u001b[39;00m \u001b[38;5;28;01mimport\u001b[39;00m QFont\n\u001b[1;32m----> 4\u001b[0m \u001b[38;5;28;01mfrom\u001b[39;00m \u001b[38;5;21;01mPySide6\u001b[39;00m\u001b[38;5;21;01m.\u001b[39;00m\u001b[38;5;21;01mQtCore\u001b[39;00m \u001b[38;5;28;01mimport\u001b[39;00m Qt, QTextBrowser\n",
      "\u001b[1;31mImportError\u001b[0m: cannot import name 'QTextBrowser' from 'PySide6.QtCore' (c:\\Users\\sohad\\anaconda3\\Lib\\site-packages\\PySide6\\QtCore.pyd)"
     ]
    }
   ],
   "source": [
    "import sys\n",
    "from PySide6.QtWidgets import *\n",
    "from PySide6.QtGui import QFont\n",
    "from PySide6.QtCore import Qt\n"
   ]
  },
  {
   "cell_type": "markdown",
   "metadata": {},
   "source": [
    "<h4>Main</h4>"
   ]
  },
  {
   "cell_type": "code",
   "execution_count": 66,
   "metadata": {},
   "outputs": [],
   "source": [
    "class SigVerifWindow(QWidget):\n",
    "    def __init__(self):\n",
    "        super().__init__()\n",
    "        self.InitGUI()\n",
    "        self.LoadGUI()\n",
    "    def InitGUI(self):\n",
    "        self.setGeometry(100,100,500,500)\n",
    "        self.v_box_layout = QVBoxLayout()\n",
    "        self.h_box_layout = QHBoxLayout()\n",
    "        self.intro_label = QLabel(\"Welcome!\\nPlease enter signature to verify\")\n",
    "        self.signature_placeholder = QLabel()\n",
    "        self.signature_picture = QPixmap()\n",
    "        self.import_signature_button = QPushButton(\"import signature\")\n",
    "        self.verif_section = QWidget()\n",
    "        self.verif_section.setLayout(self.h_box_layout)\n",
    "        self.verif_button = QPushButton(\"verify\")\n",
    "        self.verif_result =QTextBrowser()\n",
    "        self.setLayout(self.v_box_layout)\n",
    "        \n",
    "    def LoadGUI(self):\n",
    "        self.intro_label.setAlignment(Qt.AlignCenter)\n",
    "        self.intro_label.setFont(QFont(\"Ariel\", 16))\n",
    "        self.v_box_layout.addWidget(self.intro_label)\n",
    "        self.signature_placeholder.setPixmap(self.signature_picture)\n",
    "        self.v_box_layout.addWidget(self.signature_placeholder)\n",
    "        self.v_box_layout.addWidget(self.import_signature_button)\n",
    "        self.h_box_layout.addWidget(self.verif_button)\n",
    "        self.h_box_layout.addWidget(self.verif_result)\n",
    "        self.verif_result.setPlainText(\"hiiiiiii\") \n",
    "        self.v_box_layout.addWidget(self.verif_section)\n",
    "    def RegisterSignals(self):\n",
    "        pass\n",
    "\n",
    "\n",
    "def main():\n",
    "    if QApplication.instance():\n",
    "        app = QApplication.instance()\n",
    "    else:\n",
    "        app = QApplication(sys.argv)\n",
    "    window = SigVerifWindow()\n",
    "    window.show()\n",
    "    app.exec()\n",
    "\n",
    "if __name__ == '__main__':\n",
    "    main()"
   ]
  }
 ],
 "metadata": {
  "kernelspec": {
   "display_name": "base",
   "language": "python",
   "name": "python3"
  },
  "language_info": {
   "name": "python",
   "version": "3.11.5"
  }
 },
 "nbformat": 4,
 "nbformat_minor": 2
}
