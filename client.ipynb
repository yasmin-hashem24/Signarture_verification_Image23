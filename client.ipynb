{
 "cells": [
  {
   "cell_type": "markdown",
   "metadata": {},
   "source": [
    "<h3>Imports</h3>"
   ]
  },
  {
   "cell_type": "code",
   "execution_count": 1,
   "metadata": {},
   "outputs": [],
   "source": [
    "import sys\n",
    "from PySide6.QtWidgets import *\n",
    "from PySide6.QtGui import QFont\n",
    "from PySide6.QtCore import Qt\n"
   ]
  },
  {
   "cell_type": "markdown",
   "metadata": {},
   "source": [
    "<h4>Main</h4>"
   ]
  },
  {
   "cell_type": "code",
   "execution_count": 66,
   "metadata": {},
   "outputs": [],
   "source": [
    "class SigVerifWindow(QWidget):\n",
    "    def __init__(self):\n",
    "        super().__init__()\n",
    "        self.InitGUI()\n",
    "        self.LoadGUI()\n",
    "    def InitGUI(self):\n",
    "        self.setGeometry(100,100,500,500)\n",
    "        self.v_box_layout = QVBoxLayout()\n",
    "        self.h_box_layout = QHBoxLayout()\n",
    "        self.intro_label = QLabel(\"Welcome!\\nPlease enter signature to verify\")\n",
    "        self.signature_placeholder = QLabel()\n",
    "        self.signature_picture = QPixmap()\n",
    "        self.import_signature_button = QPushButton(\"import signature\")\n",
    "        self.verif_section = QWidget()\n",
    "        self.verif_section.setLayout(self.h_box_layout)\n",
    "        self.verif_button = QPushButton(\"verify\")\n",
    "        self.verif_result =QTextBrowser()\n",
    "        self.setLayout(self.v_box_layout)\n",
    "        \n",
    "    def LoadGUI(self):\n",
    "        self.intro_label.setAlignment(Qt.AlignCenter)\n",
    "        self.intro_label.setFont(QFont(\"Ariel\", 16))\n",
    "        self.v_box_layout.addWidget(self.intro_label)\n",
    "        self.signature_placeholder.setPixmap(self.signature_picture)\n",
    "        self.v_box_layout.addWidget(self.signature_placeholder)\n",
    "        self.v_box_layout.addWidget(self.import_signature_button)\n",
    "        self.h_box_layout.addWidget(self.verif_button)\n",
    "        self.h_box_layout.addWidget(self.verif_result)\n",
    "        self.verif_result.setPlainText(\"hiiiiiii\") \n",
    "        self.v_box_layout.addWidget(self.verif_section)\n",
    "    def RegisterSignals(self):\n",
    "        pass\n",
    "\n",
    "\n",
    "def main():\n",
    "    if QApplication.instance():\n",
    "        app = QApplication.instance()\n",
    "    else:\n",
    "        app = QApplication(sys.argv)\n",
    "    window = SigVerifWindow()\n",
    "    window.show()\n",
    "    app.exec()\n",
    "\n",
    "if __name__ == '__main__':\n",
    "    main()"
   ]
  }
 ],
 "metadata": {
  "kernelspec": {
   "display_name": "base",
   "language": "python",
   "name": "python3"
  },
  "language_info": {
   "codemirror_mode": {
    "name": "ipython",
    "version": 3
   },
   "file_extension": ".py",
   "mimetype": "text/x-python",
   "name": "python",
   "nbconvert_exporter": "python",
   "pygments_lexer": "ipython3",
   "version": "3.11.5"
  }
 },
 "nbformat": 4,
 "nbformat_minor": 2
}
