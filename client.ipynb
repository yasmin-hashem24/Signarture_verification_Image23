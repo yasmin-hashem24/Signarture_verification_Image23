{
 "cells": [
  {
   "cell_type": "markdown",
   "metadata": {},
   "source": [
    "<h3>Imports</h3>"
   ]
  },
  {
   "cell_type": "code",
   "execution_count": 24,
   "metadata": {},
   "outputs": [],
   "source": [
    "import sys\n",
    "from PySide6.QtWidgets import *\n",
    "from PySide6.QtGui import QFont, QPixmap\n",
    "from PySide6.QtCore import Qt\n"
   ]
  },
  {
   "cell_type": "markdown",
   "metadata": {},
   "source": [
    "<h4>Main</h4>"
   ]
  },
  {
   "cell_type": "code",
   "execution_count": 28,
   "metadata": {},
   "outputs": [
    {
     "name": "stdout",
     "output_type": "stream",
     "text": [
      "heree\n",
      "C:/Users/sohad/Documents/University/Senior-2 Fall 2023/CMPS446 Image processing and computer vision/Signarture_verification_Image23/testImgs/WhatsApp Image 2023-12-23 at 10.00.37 PM.jpeg\n"
     ]
    }
   ],
   "source": [
    "class SigVerifWindow(QWidget):\n",
    "    def __init__(self) -> None:\n",
    "        super().__init__()\n",
    "        self.InitGUI()\n",
    "        self.LoadGUI()\n",
    "        self.RegisterSignals()\n",
    "\n",
    "    def InitGUI(self) -> None:\n",
    "        self.setGeometry(100,100,500,500)\n",
    "        self.v_box_layout = QVBoxLayout()\n",
    "        self.h_box_layout = QHBoxLayout()\n",
    "        self.h_box_layout_for_import = QHBoxLayout()\n",
    "        \n",
    "        self.intro_label = QLabel(\"Welcome!\\nPlease enter signature to verify\")\n",
    "        self.signature_placeholder = QLabel()\n",
    "        \n",
    "        self.signature_picture = QPixmap()\n",
    "        self.import_section = QWidget()\n",
    "        self.import_section.setLayout(self.h_box_layout_for_import)\n",
    "        self.import_signature_button = QPushButton(\"import signature\")\n",
    "        \n",
    "        self.verif_section = QWidget()\n",
    "        self.verif_section.setLayout(self.h_box_layout)\n",
    "        self.verif_button = QPushButton(\"verify\")\n",
    "        self.verif_result = QLabel()\n",
    "        self.setLayout(self.v_box_layout)\n",
    "        \n",
    "    def LoadGUI(self) -> None:\n",
    "        self.intro_label.setAlignment(Qt.AlignCenter)\n",
    "        self.intro_label.setFont(QFont(\"Ariel\", 16))\n",
    "        \n",
    "        '''This area is responsible for the main layout of the app'''\n",
    "        self.v_box_layout.addWidget(self.intro_label)\n",
    "        self.signature_placeholder.setPixmap(self.signature_picture)\n",
    "        self.v_box_layout.addWidget(self.signature_placeholder)\n",
    "        self.v_box_layout.addWidget(self.import_section)\n",
    "\n",
    "        '''This area is responsible for the verification layout'''\n",
    "        self.h_box_layout.addWidget(self.verif_button)\n",
    "        self.h_box_layout.addWidget(self.verif_result)\n",
    "        # self.verif_result.setText(\"\") \n",
    "        self.v_box_layout.addWidget(self.verif_section)\n",
    "        \n",
    "        '''This area is responsible to adjust size of button'''\n",
    "        self.h_box_layout_for_import.addSpacing(self.h_box_layout_for_import.spacing() + 150)\n",
    "        self.h_box_layout_for_import.addWidget(self.import_signature_button)\n",
    "        self.h_box_layout_for_import.addSpacing(self.h_box_layout_for_import.spacing() + 150)\n",
    "    \n",
    "    def RegisterSignals(self) -> None:\n",
    "        self.import_signature_button.clicked.connect(self.importSignalHandler)\n",
    "\n",
    "    def importSignalHandler(self) -> None:\n",
    "        # options = QFileDialog.Options()\n",
    "        # options |= QFileDialog.DontUseNativeDialog\n",
    "        file_dialog = QFileDialog()\n",
    "        # file_dialog.setOptions(options)\n",
    "        print(\"heree\")\n",
    "\n",
    "        # To select directories, use getExistingDirectory\n",
    "        selected_dir = file_dialog.getExistingDirectory(self, \"Select Directory\")\n",
    "\n",
    "        # To select files, use getOpenFileName\n",
    "        file_name, _ = file_dialog.getOpenFileName(self, \"Open File\")\n",
    "        print(file_name)\n",
    "\n",
    "\n",
    "\n",
    "\n",
    "def main():\n",
    "    if QApplication.instance():\n",
    "        app = QApplication.instance()\n",
    "    else:\n",
    "        app = QApplication(sys.argv)\n",
    "    window = SigVerifWindow()\n",
    "    window.show()\n",
    "    app.exec()\n",
    "\n",
    "if __name__ == '__main__':\n",
    "    main()"
   ]
  }
 ],
 "metadata": {
  "kernelspec": {
   "display_name": "base",
   "language": "python",
   "name": "python3"
  },
  "language_info": {
   "codemirror_mode": {
    "name": "ipython",
    "version": 3
   },
   "file_extension": ".py",
   "mimetype": "text/x-python",
   "name": "python",
   "nbconvert_exporter": "python",
   "pygments_lexer": "ipython3",
   "version": "3.11.5"
  }
 },
 "nbformat": 4,
 "nbformat_minor": 2
}
